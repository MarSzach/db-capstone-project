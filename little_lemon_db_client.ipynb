{
 "cells": [
  {
   "cell_type": "markdown",
   "id": "552caa6c-c7c3-4809-a5fa-bf5005b54774",
   "metadata": {},
   "source": [
    "## Connect with database"
   ]
  },
  {
   "cell_type": "markdown",
   "id": "07293aa9-3cbc-4277-949e-2cebe40799f8",
   "metadata": {},
   "source": [
    "### Install mysql connector"
   ]
  },
  {
   "cell_type": "code",
   "execution_count": 1,
   "id": "af9f7280-47e3-420a-957a-fbbee3a48c65",
   "metadata": {},
   "outputs": [
    {
     "name": "stdout",
     "output_type": "stream",
     "text": [
      "Defaulting to user installation because normal site-packages is not writeable\n",
      "Requirement already satisfied: mysql-connector-python in /usr/lib/python3.12/site-packages (8.0.21)\n",
      "Requirement already satisfied: protobuf>=3.0.0 in /usr/lib64/python3.12/site-packages (from mysql-connector-python) (3.19.6)\n"
     ]
    }
   ],
   "source": [
    "!pip3 install mysql-connector-python"
   ]
  },
  {
   "cell_type": "markdown",
   "id": "73c11e4d-7a36-4e0f-b452-c91acadb7245",
   "metadata": {},
   "source": [
    "### Import mysql connector and module with authentication data"
   ]
  },
  {
   "cell_type": "code",
   "execution_count": 1,
   "id": "fbe63812-407b-4277-91d8-2c4e7a5b9e1f",
   "metadata": {},
   "outputs": [],
   "source": [
    "import mysql.connector as connector\n",
    "from auth import database, login, passw\n",
    "from datetime import datetime"
   ]
  },
  {
   "cell_type": "markdown",
   "id": "ef179b18-83b3-4cc5-8fe8-a9ea4c033c65",
   "metadata": {},
   "source": [
    "### Connect with database"
   ]
  },
  {
   "cell_type": "code",
   "execution_count": 2,
   "id": "37ba7c3c-e32c-4523-836f-71dfc91c33ce",
   "metadata": {},
   "outputs": [],
   "source": [
    "connection = connector.connect(user=login, password=passw, db=database)"
   ]
  },
  {
   "cell_type": "code",
   "execution_count": 3,
   "id": "fe211f5c-45e1-4046-83de-f320566fe4f3",
   "metadata": {},
   "outputs": [],
   "source": [
    "cursor = connection.cursor()"
   ]
  },
  {
   "cell_type": "markdown",
   "id": "9e3841c7-fca2-4b07-9ce0-89389f427fd4",
   "metadata": {},
   "source": [
    "### Create and execute query to show tables of database"
   ]
  },
  {
   "cell_type": "code",
   "execution_count": 4,
   "id": "de1301ea-81c9-43a4-ba8c-60b8a1f83d41",
   "metadata": {},
   "outputs": [],
   "source": [
    "show_tables_query = \"SHOW tables\""
   ]
  },
  {
   "cell_type": "code",
   "execution_count": 5,
   "id": "7574178b-264d-4ee2-8409-da3c0ddf59a6",
   "metadata": {},
   "outputs": [],
   "source": [
    "cursor.execute(show_tables_query)"
   ]
  },
  {
   "cell_type": "code",
   "execution_count": 6,
   "id": "de4ac93d-9a08-4ad6-a687-34a2ce40421d",
   "metadata": {},
   "outputs": [],
   "source": [
    "results = cursor.fetchall()"
   ]
  },
  {
   "cell_type": "code",
   "execution_count": 7,
   "id": "15ff7983-ff16-4f02-b523-c2aa9dfabe45",
   "metadata": {},
   "outputs": [
    {
     "name": "stdout",
     "output_type": "stream",
     "text": [
      "Bookings\n",
      "Cuisine\n",
      "Customers\n",
      "ItemsOrderedMoreThan2\n",
      "MenuOrder\n",
      "MenuPosition\n",
      "Menus\n",
      "MoreThan150View\n",
      "OrderStatus\n",
      "OrderStatusLog\n",
      "OrderType\n",
      "Orders\n",
      "OrdersView\n",
      "PositionCategory\n",
      "Positions\n",
      "Staff\n",
      "Tables\n"
     ]
    }
   ],
   "source": [
    "for table in results:\n",
    "    print(table[0])"
   ]
  },
  {
   "cell_type": "code",
   "execution_count": 8,
   "id": "4b34d3b4-f14e-4754-a552-f2ee2188272b",
   "metadata": {},
   "outputs": [],
   "source": [
    "query = \"\"\"SELECT DISTINCT c.CustomerID, \n",
    "            c.CustomerFirstName, \n",
    "            c.CustomerLastName, \n",
    "            c.PhoneNumber, \n",
    "            c.Email \n",
    "            FROM Customers AS c \n",
    "            JOIN Orders AS o \n",
    "            ON c.CustomerID = o.CustomerID \n",
    "            WHERE o.TotalCost > 60\"\"\""
   ]
  },
  {
   "cell_type": "code",
   "execution_count": 9,
   "id": "ef32f600-d9a0-4686-bd1d-2784ce93524d",
   "metadata": {},
   "outputs": [],
   "source": [
    "cursor.execute(query)"
   ]
  },
  {
   "cell_type": "code",
   "execution_count": 10,
   "id": "21a0dfc4-192e-4e9b-bd2d-545b7a7b3ca9",
   "metadata": {},
   "outputs": [],
   "source": [
    "results = cursor.fetchall()"
   ]
  },
  {
   "cell_type": "code",
   "execution_count": 11,
   "id": "af595745-f4d6-46a0-b748-6c8e63547f3c",
   "metadata": {},
   "outputs": [
    {
     "name": "stdout",
     "output_type": "stream",
     "text": [
      "(2, 'Rodrigo', 'Cortes', '768852729', 'rcortes@cort.com')\n",
      "(25, 'David', 'Taylor', '567-890-1234', 'david.taylor@xampl.com')\n",
      "(11, 'John', 'Smith', '123-456-7890', 'john.smith@snsco.com')\n",
      "(15, 'David', 'Taylor', '567-890-1234', 'david.taylor@xampl.com')\n",
      "(18, 'John', 'Case', '5238942043', 'jc23@postmail.com')\n",
      "(24, 'Laura', 'Wilson', '456-789-0123', 'laura.wilson@plex.com')\n",
      "(23, 'James', 'Brown', '345-678-9012', 'james.brown@sample.com')\n",
      "(19, 'Edwin', 'Marcos', '3832389', 'e.marcos@books.com')\n",
      "(12, 'Anna', 'Smith', '234-567-8901', 'anna.smith@snsco.com')\n",
      "(16, 'Henry', 'Jones', '485364829', 'henry.j@jnj.com')\n",
      "(26, 'Henry', 'Jones', '485364829', 'henry.j@jnj.com')\n",
      "(29, 'Edwin', 'Marcos', '3832389', 'e.marcos@books.com')\n",
      "(30, 'Max', 'Pereira', '982723729', 'max.pereira@fastmail.com')\n",
      "(9, 'Laura', 'Wilson', '456-789-0123', 'laura.wilson@plex.com')\n",
      "(10, 'David', 'Taylor', '567-890-1234', 'david.taylor@xampl.com')\n",
      "(28, 'John', 'Case', '5238942043', 'jc23@postmail.com')\n",
      "(5, 'Max', 'Pereira', '982723729', 'max.pereira@fastmail.com')\n",
      "(8, 'James', 'Brown', '345-678-9012', 'james.brown@sample.com')\n",
      "(22, 'Anna', 'Smith', '234-567-8901', 'anna.smith@snsco.com')\n",
      "(7, 'Anna', 'Smith', '234-567-8901', 'anna.smith@snsco.com')\n",
      "(20, 'Max', 'Pereira', '982723729', 'max.pereira@fastmail.com')\n",
      "(100, 'Claire', 'Rogers', '71367968', 'claire.rogers@maildomain.com')\n",
      "(219, 'Isaiah', 'Hughes', '81058254', 'isaiah.hughes@starpost.com')\n",
      "(102, 'Nora', 'James', '55168729', 'nora.james@starpost.com')\n",
      "(120, 'Jeremiah', 'Cooper', '24806184', 'jeremiah.cooper@maildomain.com')\n",
      "(105, 'Cameron', 'Johnson', '76100426', 'cameron.johnson@bestmail.com')\n",
      "(125, 'Mia', 'Jackson', '36594319', 'mia.jackson@maildomain.com')\n",
      "(59, 'Samantha', 'Green', '36002727', 'samantha.green@starpost.com')\n",
      "(111, 'Penelope', 'Taylor', '90447841', 'penelope.taylor@maildomain.com')\n",
      "(185, 'Lucy', 'Price', '65441373', 'lucy.price@maildomain.com')\n",
      "(89, 'Zoe', 'Wood', '73612399', 'zoe.wood@bestmail.com')\n",
      "(227, 'Evelyn', 'Stewart', '97880758', 'evelyn.stewart@maildomain.com')\n",
      "(176, 'Scarlett', 'Reed', '12867490', 'scarlett.reed@starpost.com')\n",
      "(68, 'Cameron', 'Ortiz', '67624074', 'cameron.ortiz@starpost.com')\n",
      "(205, 'Evelyn', 'Rogers', '45441252', 'evelyn.rogers@bestmail.com')\n",
      "(124, 'Jonathan', 'Davis', '57862972', 'jonathan.davis@maildomain.com')\n",
      "(165, 'Harper', 'Robinson', '21647768', 'harper.robinson@maildomain.com')\n",
      "(64, 'Violet', 'Castillo', '66273637', 'violet.castillo@starpost.com')\n",
      "(84, 'Leah', 'Sanchez', '99413968', 'leah.sanchez@maildomain.com')\n",
      "(112, 'Olivia', 'Williams', '94216406', 'olivia.williams@bestmail.com')\n",
      "(50, 'Charles', 'Morris', '20443645', 'charles.morris@mail.com')\n",
      "(17, 'Rodrigo', 'Cortes', '768852729', 'rcortes@cort.com')\n",
      "(14, 'Laura', 'Wilson', '456-789-0123', 'laura.wilson@plex.com')\n",
      "(153, 'Alexander', 'Ward', '39020468', 'alexander.ward@maildomain.com')\n",
      "(138, 'Henry', 'Carter', '28566332', 'henry.carter@bestmail.com')\n",
      "(93, 'Mia', 'Reyes', '73129431', 'mia.reyes@bestmail.com')\n",
      "(86, 'Joshua', 'Murphy', '51629196', 'joshua.murphy@maildomain.com')\n",
      "(188, 'Hazel', 'King', '31977214', 'hazel.king@maildomain.com')\n",
      "(187, 'William', 'Campbell', '95196995', 'william.campbell@starpost.com')\n",
      "(189, 'Jonathan', 'Harris', '58014178', 'jonathan.harris@maildomain.com')\n",
      "(61, 'Savannah', 'Richardson', '98986400', 'savannah.richardson@maildomain.com')\n",
      "(114, 'Katherine', 'Brooks', '28205612', 'katherine.brooks@bestmail.com')\n",
      "(98, 'Harper', 'Kim', '79984614', 'harper.kim@mail.com')\n",
      "(158, 'Mila', 'Brooks', '76558646', 'mila.brooks@starpost.com')\n",
      "(152, 'Sofia', 'Allen', '80883122', 'sofia.allen@maildomain.com')\n",
      "(71, 'Elizabeth', 'Morgan', '92518550', 'elizabeth.morgan@starpost.com')\n",
      "(154, 'Jameson', 'Cox', '27279559', 'jameson.cox@bestmail.com')\n",
      "(177, 'Luke', 'Walker', '17286249', 'luke.walker@mail.com')\n",
      "(148, 'Ellie', 'Cook', '70595322', 'ellie.cook@starpost.com')\n",
      "(104, 'Victoria', 'Wright', '61593169', 'victoria.wright@bestmail.com')\n",
      "(67, 'Layla', 'Smith', '87115262', 'layla.smith@bestmail.com')\n",
      "(186, 'Jack', 'Sanchez', '35163110', 'jack.sanchez@mail.com')\n",
      "(169, 'Olivia', 'Diaz', '18374120', 'olivia.diaz@maildomain.com')\n",
      "(229, 'Christian', 'King', '48115538', 'christian.king@starpost.com')\n",
      "(144, 'Aubrey', 'Roberts', '88860945', 'aubrey.roberts@maildomain.com')\n",
      "(223, 'Abigail', 'Young', '35951281', 'abigail.young@bestmail.com')\n",
      "(216, 'Mia', 'Richardson', '83579865', 'mia.richardson@maildomain.com')\n",
      "(77, 'Zoe', 'Turner', '35409294', 'zoe.turner@starpost.com')\n",
      "(95, 'Nathan', 'Campbell', '22804692', 'nathan.campbell@mail.com')\n",
      "(128, 'Evan', 'Price', '74872990', 'evan.price@mail.com')\n",
      "(134, 'Elijah', 'Cox', '62867161', 'elijah.cox@starpost.com')\n",
      "(80, 'Aria', 'Miller', '72576495', 'aria.miller@mail.com')\n",
      "(66, 'Dylan', 'Baker', '63713089', 'dylan.baker@mail.com')\n",
      "(195, 'Nathan', 'Taylor', '30825217', 'nathan.taylor@mail.com')\n",
      "(214, 'Zachary', 'Ward', '14629214', 'zachary.ward@bestmail.com')\n",
      "(36, 'Gabriel', 'Cook', '37901891', 'gabriel.cook@bestmail.com')\n",
      "(83, 'Elizabeth', 'Adams', '59661246', 'elizabeth.adams@starpost.com')\n",
      "(203, 'Hannah', 'Adams', '80204899', 'hannah.adams@maildomain.com')\n",
      "(51, 'Luke', 'Ross', '73480596', 'luke.ross@bestmail.com')\n",
      "(146, 'Savannah', 'Walker', '48588084', 'savannah.walker@bestmail.com')\n",
      "(101, 'Stella', 'Nelson', '30698278', 'stella.nelson@starpost.com')\n",
      "(166, 'Madison', 'Gray', '14670054', 'madison.gray@starpost.com')\n",
      "(193, 'John', 'Edwards', '31673211', 'john.edwards@maildomain.com')\n",
      "(3, 'John', 'Case', '5238942043', 'jc23@postmail.com')\n",
      "(92, 'Jeremiah', 'Hill', '20206429', 'jeremiah.hill@mail.com')\n",
      "(49, 'Zachary', 'Castillo', '26234473', 'zachary.castillo@mail.com')\n",
      "(56, 'Jeremiah', 'Price', '21920562', 'jeremiah.price@bestmail.com')\n",
      "(192, 'Bella', 'Price', '76928270', 'bella.price@maildomain.com')\n",
      "(109, 'Cameron', 'Ruiz', '68297249', 'cameron.ruiz@starpost.com')\n",
      "(69, 'Aaliyah', 'Gomez', '84813769', 'aaliyah.gomez@maildomain.com')\n",
      "(202, 'Samantha', 'Perez', '69606461', 'samantha.perez@starpost.com')\n",
      "(181, 'Connor', 'Green', '62091494', 'connor.green@maildomain.com')\n",
      "(88, 'Julian', 'Diaz', '31525164', 'julian.diaz@mail.com')\n",
      "(43, 'Tyler', 'Mendoza', '42972863', 'tyler.mendoza@maildomain.com')\n",
      "(171, 'Zachary', 'Ruiz', '30725904', 'zachary.ruiz@mail.com')\n",
      "(118, 'John', 'Rivera', '41642818', 'john.rivera@bestmail.com')\n",
      "(21, 'John', 'Smith', '123-456-7890', 'john.smith@snsco.com')\n",
      "(117, 'Alexander', 'Morales', '52680809', 'alexander.morales@mail.com')\n",
      "(90, 'Chloe', 'Ruiz', '92986173', 'chloe.ruiz@maildomain.com')\n",
      "(180, 'Charlotte', 'Torres', '20231809', 'charlotte.torres@maildomain.com')\n",
      "(123, 'Harper', 'Campbell', '45528200', 'harper.campbell@starpost.com')\n",
      "(210, 'Maya', 'Anderson', '60628523', 'maya.anderson@mail.com')\n",
      "(82, 'Tyler', 'Cruz', '46025803', 'tyler.cruz@bestmail.com')\n",
      "(137, 'Nicholas', 'Chavez', '63209920', 'nicholas.chavez@maildomain.com')\n",
      "(122, 'Isabella', 'Baker', '74029246', 'isabella.baker@maildomain.com')\n",
      "(150, 'Jeremiah', 'Campbell', '67606951', 'jeremiah.campbell@bestmail.com')\n",
      "(199, 'Savannah', 'Evans', '37082321', 'savannah.evans@bestmail.com')\n",
      "(72, 'Isaiah', 'Ortiz', '54260536', 'isaiah.ortiz@bestmail.com')\n",
      "(167, 'Victoria', 'Hernandez', '34457727', 'victoria.hernandez@bestmail.com')\n",
      "(211, 'Zachary', 'Lewis', '85597315', 'zachary.lewis@starpost.com')\n",
      "(174, 'Claire', 'Perez', '30219925', 'claire.perez@starpost.com')\n",
      "(204, 'Samuel', 'Anderson', '37725956', 'samuel.anderson@bestmail.com')\n",
      "(179, 'Jordan', 'Ramirez', '92351250', 'jordan.ramirez@maildomain.com')\n",
      "(41, 'Chloe', 'Sanchez', '49678152', 'chloe.sanchez@maildomain.com')\n",
      "(163, 'Avery', 'Wood', '50549930', 'avery.wood@mail.com')\n",
      "(126, 'Leah', 'Williams', '53232682', 'leah.williams@maildomain.com')\n",
      "(155, 'Michael', 'Lewis', '59375501', 'michael.lewis@starpost.com')\n",
      "(47, 'David', 'Alvarez', '14855796', 'david.alvarez@bestmail.com')\n",
      "(222, 'Mia', 'Scott', '20255112', 'mia.scott@bestmail.com')\n",
      "(79, 'Nicholas', 'Hill', '36279315', 'nicholas.hill@bestmail.com')\n",
      "(133, 'Sofia', 'Walker', '50917756', 'sofia.walker@maildomain.com')\n",
      "(57, 'Hannah', 'Phillips', '24005150', 'hannah.phillips@bestmail.com')\n",
      "(224, 'Christian', 'Long', '74353219', 'christian.long@maildomain.com')\n",
      "(42, 'Liam', 'Walker', '34427509', 'liam.walker@mail.com')\n",
      "(164, 'Jordan', 'Sanchez', '50386536', 'jordan.sanchez@mail.com')\n",
      "(147, 'Mia', 'Turner', '75207342', 'mia.turner@bestmail.com')\n",
      "(91, 'Zachary', 'Mendoza', '25692501', 'zachary.mendoza@maildomain.com')\n",
      "(94, 'Alexander', 'Torres', '27902043', 'alexander.torres@bestmail.com')\n",
      "(48, 'Elijah', 'Long', '72589139', 'elijah.long@mail.com')\n",
      "(32, 'Andrew', 'Price', '96074641', 'andrew.price@mail.com')\n",
      "(183, 'Benjamin', 'Thompson', '46421274', 'benjamin.thompson@maildomain.com')\n",
      "(60, 'William', 'Young', '80112627', 'william.young@maildomain.com')\n",
      "(103, 'Emily', 'Gomez', '66455764', 'emily.gomez@mail.com')\n",
      "(62, 'Logan', 'Evans', '68133393', 'logan.evans@starpost.com')\n",
      "(201, 'Lucy', 'Wright', '56090461', 'lucy.wright@starpost.com')\n",
      "(96, 'Ellie', 'Carter', '68949731', 'ellie.carter@maildomain.com')\n",
      "(13, 'James', 'Brown', '345-678-9012', 'james.brown@sample.com')\n",
      "(121, 'Hannah', 'King', '87188112', 'hannah.king@mail.com')\n",
      "(76, 'Emma', 'White', '20134430', 'emma.white@starpost.com')\n",
      "(209, 'William', 'Nguyen', '59798296', 'william.nguyen@mail.com')\n",
      "(140, 'Audrey', 'Thomas', '79269872', 'audrey.thomas@starpost.com')\n",
      "(190, 'Sofia', 'Moore', '42032382', 'sofia.moore@mail.com')\n",
      "(40, 'Nicholas', 'Martinez', '75981412', 'nicholas.martinez@starpost.com')\n",
      "(106, 'Tyler', 'Walker', '20654087', 'tyler.walker@maildomain.com')\n",
      "(87, 'Natalie', 'Wilson', '81876015', 'natalie.wilson@bestmail.com')\n",
      "(226, 'Matthew', 'Chavez', '83384841', 'matthew.chavez@starpost.com')\n",
      "(206, 'Evelyn', 'Smith', '54802941', 'evelyn.smith@maildomain.com')\n",
      "(78, 'Wyatt', 'Bailey', '84204527', 'wyatt.bailey@bestmail.com')\n",
      "(135, 'Layla', 'Allen', '51108173', 'layla.allen@maildomain.com')\n",
      "(119, 'Samantha', 'Stewart', '85406262', 'samantha.stewart@mail.com')\n",
      "(172, 'Ethan', 'Carter', '75602538', 'ethan.carter@bestmail.com')\n",
      "(35, 'Alexander', 'Baker', '70941693', 'alexander.baker@mail.com')\n",
      "(182, 'Ethan', 'Richardson', '78134330', 'ethan.richardson@bestmail.com')\n",
      "(225, 'Luke', 'Chavez', '71430425', 'luke.chavez@mail.com')\n",
      "(178, 'Penelope', 'White', '99592980', 'penelope.white@starpost.com')\n",
      "(162, 'Lucy', 'Harris', '35627829', 'lucy.harris@maildomain.com')\n",
      "(207, 'Brandon', 'Bailey', '88601277', 'brandon.bailey@starpost.com')\n",
      "(197, 'Aaliyah', 'Wood', '75568823', 'aaliyah.wood@starpost.com')\n",
      "(127, 'Jeremiah', 'Murphy', '37027719', 'jeremiah.murphy@bestmail.com')\n",
      "(131, 'Lily', 'Robinson', '30328779', 'lily.robinson@bestmail.com')\n",
      "(113, 'Scarlett', 'Baker', '86907008', 'scarlett.baker@starpost.com')\n",
      "(191, 'Logan', 'Hernandez', '93251502', 'logan.hernandez@mail.com')\n",
      "(1, 'Henry', 'Jones', '485364829', 'henry.j@jnj.com')\n",
      "(175, 'Leah', 'Collins', '51265732', 'leah.collins@mail.com')\n",
      "(55, 'Lily', 'Williams', '56912857', 'lily.williams@starpost.com')\n",
      "(151, 'Zoe', 'Brooks', '43653550', 'zoe.brooks@mail.com')\n",
      "(157, 'Aaron', 'Rodriguez', '33207900', 'aaron.rodriguez@maildomain.com')\n",
      "(81, 'Zachary', 'Campbell', '96091207', 'zachary.campbell@bestmail.com')\n",
      "(39, 'Julian', 'Kelly', '38831396', 'julian.kelly@bestmail.com')\n",
      "(97, 'Addison', 'Harris', '74896444', 'addison.harris@maildomain.com')\n",
      "(58, 'Ava', 'Garcia', '53159181', 'ava.garcia@starpost.com')\n",
      "(184, 'Joshua', 'Robinson', '35523097', 'joshua.robinson@starpost.com')\n",
      "(129, 'Hannah', 'Mitchell', '98268434', 'hannah.mitchell@maildomain.com')\n",
      "(160, 'Leah', 'Patel', '95590314', 'leah.patel@mail.com')\n",
      "(200, 'Nicholas', 'Edwards', '88234967', 'nicholas.edwards@mail.com')\n",
      "(142, 'Bella', 'Clark', '81923437', 'bella.clark@maildomain.com')\n",
      "(107, 'Harper', 'Evans', '30265351', 'harper.evans@bestmail.com')\n",
      "(99, 'Jackson', 'Green', '50068342', 'jackson.green@maildomain.com')\n",
      "(139, 'Brandon', 'Torres', '57149991', 'brandon.torres@mail.com')\n",
      "(38, 'Claire', 'Ruiz', '59163182', 'claire.ruiz@maildomain.com')\n",
      "(198, 'Ruby', 'Gomez', '92510345', 'ruby.gomez@maildomain.com')\n",
      "(220, 'Aria', 'Gray', '39189659', 'aria.gray@maildomain.com')\n",
      "(6, 'John', 'Smith', '123-456-7890', 'john.smith@snsco.com')\n",
      "(196, 'Lucy', 'Clark', '29696407', 'lucy.clark@bestmail.com')\n",
      "(208, 'Victoria', 'Johnson', '67393382', 'victoria.johnson@starpost.com')\n",
      "(37, 'Scarlett', 'King', '98300445', 'scarlett.king@maildomain.com')\n",
      "(136, 'Emily', 'Wood', '26738262', 'emily.wood@starpost.com')\n",
      "(217, 'Isaac', 'Thomas', '65595766', 'isaac.thomas@mail.com')\n",
      "(170, 'Ruby', 'Robinson', '24952275', 'ruby.robinson@mail.com')\n",
      "(45, 'John', 'Stewart', '62673773', 'john.stewart@starpost.com')\n",
      "(221, 'Dylan', 'Jones', '78878080', 'dylan.jones@mail.com')\n",
      "(145, 'Madison', 'Perez', '69557769', 'madison.perez@mail.com')\n",
      "(168, 'Bella', 'Reed', '21093342', 'bella.reed@starpost.com')\n",
      "(141, 'Layla', 'Cook', '56023733', 'layla.cook@starpost.com')\n",
      "(230, 'Madison', 'Turner', '94764406', 'madison.turner@starpost.com')\n",
      "(63, 'Aria', 'Mendoza', '82823827', 'aria.mendoza@starpost.com')\n",
      "(161, 'Evelyn', 'Davis', '70322531', 'evelyn.davis@mail.com')\n",
      "(4, 'Edwin', 'Marcos', '3832389', 'e.marcos@books.com')\n",
      "(53, 'John', 'Johnson', '50995250', 'john.johnson@maildomain.com')\n",
      "(143, 'William', 'Collins', '44463168', 'william.collins@bestmail.com')\n",
      "(44, 'Mia', 'Lee', '93543787', 'mia.lee@starpost.com')\n",
      "(132, 'Bella', 'Green', '63187335', 'bella.green@mail.com')\n",
      "(115, 'Christopher', 'Morales', '36806554', 'christopher.morales@starpost.com')\n",
      "(85, 'Alexander', 'White', '15257275', 'alexander.white@mail.com')\n",
      "(228, 'Tyler', 'Rodriguez', '41326660', 'tyler.rodriguez@maildomain.com')\n",
      "(194, 'Logan', 'Hughes', '60628730', 'logan.hughes@maildomain.com')\n",
      "(73, 'Benjamin', 'Patel', '38083374', 'benjamin.patel@mail.com')\n",
      "(215, 'Avery', 'Gray', '66402362', 'avery.gray@mail.com')\n",
      "(65, 'Elijah', 'Baker', '21354215', 'elijah.baker@maildomain.com')\n",
      "(33, 'Ellie', 'Hall', '25402826', 'ellie.hall@maildomain.com')\n",
      "(74, 'Isabella', 'Baker', '74450690', 'isabella.baker@mail.com')\n",
      "(130, 'Logan', 'Bennett', '99866389', 'logan.bennett@starpost.com')\n",
      "(54, 'Luke', 'Edwards', '17391137', 'luke.edwards@starpost.com')\n",
      "(70, 'Penelope', 'Ramos', '34761263', 'penelope.ramos@mail.com')\n",
      "(218, 'Harper', 'Bailey', '35177995', 'harper.bailey@maildomain.com')\n",
      "(173, 'Sofia', 'Campbell', '71799616', 'sofia.campbell@maildomain.com')\n",
      "(52, 'Cameron', 'Davis', '82516727', 'cameron.davis@starpost.com')\n",
      "(31, 'Evan', 'Kelly', '19502593', 'evan.kelly@bestmail.com')\n",
      "(34, 'Stella', 'Ross', '23033256', 'stella.ross@mail.com')\n",
      "(110, 'Lillian', 'Edwards', '63705242', 'lillian.edwards@maildomain.com')\n",
      "(27, 'Rodrigo', 'Cortes', '768852729', 'rcortes@cort.com')\n",
      "(46, 'Jacob', 'Miller', '23066876', 'jacob.miller@mail.com')\n",
      "(159, 'Matthew', 'Rogers', '42751311', 'matthew.rogers@mail.com')\n"
     ]
    }
   ],
   "source": [
    "for customer in results:\n",
    "    print(customer)"
   ]
  },
  {
   "cell_type": "markdown",
   "id": "c6405b06-cc8e-49f7-a846-9e649e54f67b",
   "metadata": {},
   "source": [
    "# Create bookings managment system"
   ]
  },
  {
   "cell_type": "markdown",
   "id": "c2ea0bb3-12b7-4ead-86b8-f2f9f1690e91",
   "metadata": {},
   "source": [
    "### Get data from customer in order to book a table"
   ]
  },
  {
   "cell_type": "code",
   "execution_count": 12,
   "id": "07ed1a22-cfb8-44d4-a54e-91e2a2921021",
   "metadata": {},
   "outputs": [
    {
     "name": "stdin",
     "output_type": "stream",
     "text": [
      "Insert first name:  Martin\n"
     ]
    }
   ],
   "source": [
    "customer_first_name = input(\"Insert first name: \")"
   ]
  },
  {
   "cell_type": "code",
   "execution_count": 13,
   "id": "a6cdb14d-c521-4179-a581-59222f83175d",
   "metadata": {},
   "outputs": [
    {
     "name": "stdin",
     "output_type": "stream",
     "text": [
      "Insert last name:  Jimenez\n"
     ]
    }
   ],
   "source": [
    "customer_last_name = input(\"Insert last name: \")"
   ]
  },
  {
   "cell_type": "code",
   "execution_count": 14,
   "id": "16b35462-ee51-4af9-899b-5d8d7685a20a",
   "metadata": {},
   "outputs": [
    {
     "name": "stdin",
     "output_type": "stream",
     "text": [
      "Insert phone number:  123456\n"
     ]
    }
   ],
   "source": [
    "customer_phone_number = input(\"Insert phone number: \")"
   ]
  },
  {
   "cell_type": "code",
   "execution_count": 15,
   "id": "3078ff20-0e06-48e1-96b3-85ddb521f727",
   "metadata": {},
   "outputs": [
    {
     "name": "stdin",
     "output_type": "stream",
     "text": [
      "Insert email address:  martin.jimenez@.mail.com\n"
     ]
    }
   ],
   "source": [
    "customer_email = input(\"Insert email address: \")"
   ]
  },
  {
   "cell_type": "code",
   "execution_count": 16,
   "id": "7402ae06-0d5c-4627-a60f-788d644790f2",
   "metadata": {},
   "outputs": [
    {
     "name": "stdin",
     "output_type": "stream",
     "text": [
      "Insert booking date:  2024-05-14\n"
     ]
    }
   ],
   "source": [
    "booking_date = input(\"Insert booking date: \")"
   ]
  },
  {
   "cell_type": "code",
   "execution_count": 17,
   "id": "9b455f66-489c-4e48-853d-db7a3961f9c7",
   "metadata": {},
   "outputs": [
    {
     "name": "stdin",
     "output_type": "stream",
     "text": [
      "Insert booking hour:  20:00:00\n"
     ]
    }
   ],
   "source": [
    "booking_hour = input(\"Insert booking hour: \")"
   ]
  },
  {
   "cell_type": "code",
   "execution_count": 18,
   "id": "3b468870-e7e2-49a7-a220-a6a716a9d925",
   "metadata": {},
   "outputs": [
    {
     "name": "stdin",
     "output_type": "stream",
     "text": [
      "Insert table's number:  3\n"
     ]
    }
   ],
   "source": [
    "table = input(\"Insert table's number: \")"
   ]
  },
  {
   "cell_type": "code",
   "execution_count": 19,
   "id": "cac59814-fcbc-4e5e-99fd-2ed734548749",
   "metadata": {},
   "outputs": [
    {
     "name": "stdin",
     "output_type": "stream",
     "text": [
      "Insert employee ID 7\n"
     ]
    }
   ],
   "source": [
    "employee_id = input(\"Insert employee ID\")"
   ]
  },
  {
   "cell_type": "code",
   "execution_count": 20,
   "id": "ac39c4f2-a193-4837-8f75-0edaf371d3a3",
   "metadata": {},
   "outputs": [
    {
     "name": "stdout",
     "output_type": "stream",
     "text": [
      "Summary: \n",
      "Booking date and time:  2024-05-14 20:00:00 \n",
      "Customer name:  Martin Jimenez \n",
      "Phone number:  123456 \n",
      "Email address:  martin.jimenez@.mail.com \n",
      "Table:  3 \n",
      "EmployeeID:  7\n"
     ]
    }
   ],
   "source": [
    "print(\"Summary:\", \"\\nBooking date and time: \", \n",
    "      \" \".join((booking_date, booking_hour)), \n",
    "      \"\\nCustomer name: \", customer_first_name, customer_last_name,\n",
    "      \"\\nPhone number: \", customer_phone_number,\n",
    "      \"\\nEmail address: \", customer_email,\n",
    "     \"\\nTable: \", table,\n",
    "     \"\\nEmployeeID: \", employee_id)"
   ]
  },
  {
   "cell_type": "markdown",
   "id": "e56e7ac3-43cc-4a6b-85af-d1a399dc5c04",
   "metadata": {},
   "source": [
    "### Check if table is free at given time"
   ]
  },
  {
   "cell_type": "code",
   "execution_count": 21,
   "id": "08194437-caea-4e08-8fb6-a81e197a8c0e",
   "metadata": {},
   "outputs": [
    {
     "data": {
      "text/plain": [
       "('2024-05-14 20:00:00', '3')"
      ]
     },
     "execution_count": 21,
     "metadata": {},
     "output_type": "execute_result"
    }
   ],
   "source": [
    "cursor.callproc(\"CheckBooking\", (booking_date + \" \" + booking_hour, table))"
   ]
  },
  {
   "cell_type": "code",
   "execution_count": 22,
   "id": "415491a2-39b3-46bf-9bd7-5942986217a4",
   "metadata": {},
   "outputs": [],
   "source": [
    "results = next(cursor.stored_results())"
   ]
  },
  {
   "cell_type": "code",
   "execution_count": 23,
   "id": "cafbc10e-1b59-4832-b191-956ec71b3495",
   "metadata": {},
   "outputs": [],
   "source": [
    "dataset = results.fetchall()"
   ]
  },
  {
   "cell_type": "code",
   "execution_count": 24,
   "id": "b8ef04fd-88ae-4576-84c3-aad833820170",
   "metadata": {},
   "outputs": [
    {
     "name": "stdout",
     "output_type": "stream",
     "text": [
      "('Free',)\n"
     ]
    }
   ],
   "source": [
    "for x in dataset:\n",
    "    print(x)"
   ]
  },
  {
   "cell_type": "markdown",
   "id": "921e594a-f7f6-4c3d-bb5d-5a87a3f6ca06",
   "metadata": {},
   "source": [
    "## Add valid booking"
   ]
  },
  {
   "cell_type": "markdown",
   "id": "fad46d6e-0a50-4703-89f1-4aa5f3c7c7d6",
   "metadata": {},
   "source": [
    "### Check if customers data is represented in the Customers table"
   ]
  },
  {
   "cell_type": "markdown",
   "id": "0028ad98-ad9c-419c-a370-f09e4a2985ca",
   "metadata": {},
   "source": [
    "#### If customer is not represented in Customers table add new record with inserted data"
   ]
  },
  {
   "cell_type": "code",
   "execution_count": 27,
   "id": "8445e29e-201a-4f90-803e-2dbfae588465",
   "metadata": {},
   "outputs": [
    {
     "name": "stdout",
     "output_type": "stream",
     "text": [
      "(234, 'Martin', 'Jimenez', '123456', 'martin.jimenez@.mail.com')\n"
     ]
    }
   ],
   "source": [
    "cursor.execute(\"SELECT * FROM Customers WHERE CustomerFirstName = %s AND CustomerLastName = %s AND PhoneNumber = %s AND Email = %s\", (customer_first_name, customer_last_name, customer_phone_number, customer_email))\n",
    "results = cursor.fetchall()\n",
    "customer_status = False\n",
    "customer_id = None\n",
    "if results:\n",
    "    for x in results:\n",
    "        print(x)\n",
    "        customer_id = x[0]\n",
    "        customer_status = True\n",
    "else:\n",
    "    customer_status = False\n",
    "    print(\"Customer not represented in database\")\n",
    "\n",
    "if not customer_status:\n",
    "    insert_query = \"\"\"INSERT INTO Customers (CustomerFirstName, CustomerLastName, PhoneNumber, Email)\n",
    "    VALUES (%s, %s, %s, %s)\"\"\"\n",
    "    values = (customer_first_name, customer_last_name, customer_phone_number, customer_email)\n",
    "    print(insert_query)\n",
    "    cursor.execute(insert_query, values)\n",
    "    connection.commit()"
   ]
  },
  {
   "cell_type": "markdown",
   "id": "5b8eff67-9114-43cf-95bb-94dda75c4cd5",
   "metadata": {},
   "source": [
    "### Book a table"
   ]
  },
  {
   "cell_type": "code",
   "execution_count": 95,
   "id": "eb7a1e76-74c4-400c-ab46-6e4dc5a9debe",
   "metadata": {},
   "outputs": [],
   "source": [
    "try:\n",
    "    cursor.callproc(\"AddValidBooking\", (int(table), datetime.now().strftime(\"%Y-%m-%d %H:%M:%S\"), booking_date + \" \" + booking_hour, customer_id, int(employee_id)))\n",
    "except Exception as e:\n",
    "    print(\"There was an error: \", e)"
   ]
  },
  {
   "cell_type": "code",
   "execution_count": 96,
   "id": "871705ab-3a37-4ff8-8d74-b64e24bc5bc6",
   "metadata": {},
   "outputs": [],
   "source": [
    "connection.commit()"
   ]
  },
  {
   "cell_type": "code",
   "execution_count": 97,
   "id": "ad07fa49-2480-4281-a38f-d28f89b3d1ad",
   "metadata": {},
   "outputs": [],
   "source": [
    "results = next(cursor.stored_results())"
   ]
  },
  {
   "cell_type": "code",
   "execution_count": 98,
   "id": "e346d890-2988-408a-8f96-9e2a6fffe987",
   "metadata": {},
   "outputs": [
    {
     "name": "stdout",
     "output_type": "stream",
     "text": [
      "Table 3 has been successfuly booked\n",
      "BookingID:  899\n",
      "Table: :  3\n",
      "Booking date:  2024-05-14 20:00:00\n",
      "CustomerID:  234\n"
     ]
    }
   ],
   "source": [
    "try:\n",
    "    if results.fetchall()[0][0] > 1:\n",
    "        print(f\"Table {table} is already booked\")\n",
    "    else:\n",
    "        cursor.execute(\"SELECT * FROM Bookings ORDER BY BookingReceivedAt DESC LIMIT 1\")\n",
    "        print(f\"Table {table} has been successfuly booked\")\n",
    "        for x in cursor.fetchall():\n",
    "            print(\"BookingID: \", x[0])\n",
    "            print(\"Table: : \", x[1])\n",
    "            print(\"Booking date: \", x[3])\n",
    "            print(\"CustomerID: \", x[4])\n",
    "except Exception as e:\n",
    "    print(e)"
   ]
  },
  {
   "cell_type": "markdown",
   "id": "35242d29-8760-446f-a67a-fae24426d491",
   "metadata": {},
   "source": [
    "### Cancel booking"
   ]
  },
  {
   "cell_type": "code",
   "execution_count": 99,
   "id": "6690f41a-6b34-452f-aa20-10bdb8fe8892",
   "metadata": {},
   "outputs": [
    {
     "name": "stdin",
     "output_type": "stream",
     "text": [
      "Insert BookingID:  899\n"
     ]
    }
   ],
   "source": [
    "booking_id = input(\"Insert BookingID: \")"
   ]
  },
  {
   "cell_type": "markdown",
   "id": "fcc31004-b781-48c1-8995-5df288c02160",
   "metadata": {},
   "source": [
    "### Check if booking exists"
   ]
  },
  {
   "cell_type": "code",
   "execution_count": 101,
   "id": "67e7e651-cd58-4d9c-97b1-18bf431ab8ed",
   "metadata": {},
   "outputs": [
    {
     "name": "stdout",
     "output_type": "stream",
     "text": [
      "There is no booking with given ID\n"
     ]
    }
   ],
   "source": [
    "cursor.execute(\"SELECT * FROM Bookings WHERE BookingID = %s\", (booking_id,))\n",
    "results = cursor.fetchall()\n",
    "if not results:\n",
    "    print(\"There is no booking with given ID\")\n",
    "else:\n",
    "    try:\n",
    "        cursor.callproc(\"CancelBooking\", (booking_id,))\n",
    "        connection.commit()\n",
    "        cursor.execute(\"SELECT * FROM Bookings WHERE BookingID = %s\", (booking_id,))\n",
    "        if not cursor.fetchall():\n",
    "            print(f\"Booking with ID {booking_id} has been successfuly canceled\")\n",
    "    except Exception as e:\n",
    "        print(e)"
   ]
  },
  {
   "cell_type": "code",
   "execution_count": null,
   "id": "e6f4e792-662e-434d-a76f-5dff16accc28",
   "metadata": {},
   "outputs": [],
   "source": []
  }
 ],
 "metadata": {
  "kernelspec": {
   "display_name": "Python 3 (ipykernel)",
   "language": "python",
   "name": "python3"
  },
  "language_info": {
   "codemirror_mode": {
    "name": "ipython",
    "version": 3
   },
   "file_extension": ".py",
   "mimetype": "text/x-python",
   "name": "python",
   "nbconvert_exporter": "python",
   "pygments_lexer": "ipython3",
   "version": "3.12.3"
  }
 },
 "nbformat": 4,
 "nbformat_minor": 5
}
